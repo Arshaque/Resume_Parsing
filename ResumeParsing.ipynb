{
 "cells": [
  {
   "cell_type": "code",
   "execution_count": 4,
   "metadata": {},
   "outputs": [
    {
     "name": "stdout",
     "output_type": "stream",
     "text": [
      "Resume Parsing\n",
      "Email ids :\n",
      "\t harshasunny98@gmail.com\n",
      "\t test@mroads.com\n",
      "Phone No.s :\n",
      "\t  +918801230870.\n",
      "Addresses :\n",
      "\t Flat 209, Magadha Towers, Musheerabad.\n",
      "Dates :\n",
      "\t May2,1998\n"
     ]
    }
   ],
   "source": [
    "#Resume Parsing\n",
    "import tika\n",
    "from tika import parser\n",
    "import re\n",
    "class ResumeParsing :\n",
    "    def run() :\n",
    "        tika.initVM()\n",
    "        parsed = parser.from_file('HARSHA.docx')\n",
    "        content = parsed[\"content\"]\n",
    "        print(\"Resume Parsing\")\n",
    "        emails = re.findall(r'[\\w\\.-]+@[\\w\\.-]+', content)\n",
    "        phnos = re.findall(r'[+0-9 ]{10,15}\\.', content)\n",
    "        dates = re.findall(r'Date of Birth:[\\w /,-]+[,/-]+[\\w]{2,4}', content)\n",
    "        addresses = re.findall(r'Address: [\\w /,-]+[.]', content)\n",
    "        \n",
    "        print(\"Email ids :\")\n",
    "        for email in emails :\n",
    "            print('\\t', email)\n",
    "            \n",
    "        print(\"Phone No.s :\")\n",
    "        for phno in phnos :\n",
    "            print('\\t', phno)\n",
    "        \n",
    "        print(\"Addresses :\")\n",
    "        for address in addresses:\n",
    "            print('\\t', address[9::]) \n",
    "            \n",
    "        print(\"Dates :\")\n",
    "        for date in dates:\n",
    "            print('\\t', date[15::])    \n",
    "                   \n",
    "    if __name__ == \"__main__\" :\n",
    "        run()"
   ]
  },
  {
   "cell_type": "code",
   "execution_count": null,
   "metadata": {
    "collapsed": true
   },
   "outputs": [],
   "source": []
  },
  {
   "cell_type": "code",
   "execution_count": null,
   "metadata": {
    "collapsed": true
   },
   "outputs": [],
   "source": []
  }
 ],
 "metadata": {
  "kernelspec": {
   "display_name": "Python 3",
   "language": "python",
   "name": "python3"
  },
  "language_info": {
   "codemirror_mode": {
    "name": "ipython",
    "version": 3
   },
   "file_extension": ".py",
   "mimetype": "text/x-python",
   "name": "python",
   "nbconvert_exporter": "python",
   "pygments_lexer": "ipython3",
   "version": "3.6.1"
  }
 },
 "nbformat": 4,
 "nbformat_minor": 2
}
